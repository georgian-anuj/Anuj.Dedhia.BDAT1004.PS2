{
 "cells": [
  {
   "cell_type": "markdown",
   "id": "3d7c5d5a",
   "metadata": {},
   "source": [
    "### Question 1"
   ]
  },
  {
   "cell_type": "code",
   "execution_count": 1,
   "id": "9562575f",
   "metadata": {},
   "outputs": [
    {
     "data": {
      "text/plain": [
       "6"
      ]
     },
     "execution_count": 1,
     "metadata": {},
     "output_type": "execute_result"
    }
   ],
   "source": [
    "a = 0  \n",
    "\n",
    "def b():     \n",
    "    global a     \n",
    "    a = c(a)  \n",
    "\n",
    "def c(a):     \n",
    "    return a + 2 \n",
    "\n",
    "b()\n",
    "b()\n",
    "b()\n",
    "a"
   ]
  },
  {
   "cell_type": "markdown",
   "id": "fc675ea5",
   "metadata": {},
   "source": [
    "1. In the execution, the first call is made to the function \"b\". \n",
    "2. In Function \"b\", first step states that the variable \"a\" as global. Then the next statement passes the variable \"a\" to the function \"c\" and the value of that function call is assigned to variable \"a\".\n",
    "3. The Function \"c\" simply adds 2 to the value of \"a\" which it received as an argument. Here \"a\" is local variable to the \"c\". It simply return whatever value it received + 2\n",
    "4. When the 2nd function call is made to \"b\", the value of a is 2 already as in the first execution, we had defined the value of a as global\n",
    "5. So here, since \"a\" is global, its value gets added up by 2 everytime the function \"b\" is called as we are calling \"c\" and returning a+2.\n",
    "6. We here have called the Function \"b\" three times and hence value of variable \"a\" will be 2+2+2 = 6"
   ]
  },
  {
   "cell_type": "markdown",
   "id": "bc08134d",
   "metadata": {},
   "source": [
    "### Question 2"
   ]
  },
  {
   "cell_type": "code",
   "execution_count": 13,
   "id": "e8a5720c",
   "metadata": {},
   "outputs": [
    {
     "name": "stdout",
     "output_type": "stream",
     "text": [
      "File idterm.py not found.\n"
     ]
    }
   ],
   "source": [
    "def file_length(file_name):\n",
    "    try:\n",
    "        file = open(file_name)\n",
    "        contents = file.read()\n",
    "        file.close()\n",
    "        print(len(contents))\n",
    "    except:\n",
    "        print(\"File \"+file_name+\" not found.\")\n",
    "\n",
    "file_length('idterm.py')"
   ]
  },
  {
   "cell_type": "markdown",
   "id": "810e2072",
   "metadata": {},
   "source": [
    "### Question 3"
   ]
  },
  {
   "cell_type": "code",
   "execution_count": 3,
   "id": "2f71f6a8",
   "metadata": {},
   "outputs": [
    {
     "name": "stdout",
     "output_type": "stream",
     "text": [
      "['doll', 'firetruck', 'kitten']\n",
      "I am a Kangaroo located at coordinates (0 , 0)\n",
      "['doll', 'firetruck', 'kitten']\n",
      "I am a Kangaroo located at coordinates (3 , 0)\n"
     ]
    }
   ],
   "source": [
    "class Marsupial:\n",
    "    \n",
    "    def __init__(self):\n",
    "        self.pouch = []\n",
    "    \n",
    "    def put_in_pouch(self,obj):\n",
    "        self.pouch.append(obj)\n",
    "    \n",
    "    def pouch_contents(self):\n",
    "        print(self.pouch)\n",
    "        \n",
    "class Kangaroo(Marsupial):\n",
    "\n",
    "    def __init__(self,x=0,y=0):\n",
    "        Marsupial.__init__(self)\n",
    "        self.x = x\n",
    "        self.y = y\n",
    "    \n",
    "    def jump(self,dx,dy):\n",
    "        self.x += dx\n",
    "        self.y += dy\n",
    "\n",
    "    def __str__(self):\n",
    "        return \"I am a Kangaroo located at coordinates (%s , %s)\"%(self.x,self.y)\n",
    "\n",
    "    \n",
    "m = Marsupial() \n",
    "m.put_in_pouch('doll') \n",
    "m.put_in_pouch('firetruck')\n",
    "m.put_in_pouch('kitten')\n",
    "m.pouch_contents() \n",
    "\n",
    "\n",
    "k = Kangaroo(0,0)\n",
    "print(k)\n",
    "\n",
    "k.put_in_pouch('doll') \n",
    "k.put_in_pouch('firetruck')\n",
    "k.put_in_pouch('kitten')\n",
    "k.pouch_contents() \n",
    "\n",
    "k.jump(1,0)\n",
    "k.jump(1,0)\n",
    "k.jump(1,0)\n",
    "print(k)"
   ]
  },
  {
   "cell_type": "markdown",
   "id": "256a7a34",
   "metadata": {},
   "source": [
    "### Question 4"
   ]
  },
  {
   "cell_type": "code",
   "execution_count": 4,
   "id": "d19f0a55",
   "metadata": {},
   "outputs": [
    {
     "name": "stdout",
     "output_type": "stream",
     "text": [
      "1\n",
      "10\n",
      "5\n",
      "16\n",
      "8\n",
      "4\n",
      "2\n",
      "1\n"
     ]
    }
   ],
   "source": [
    "def collatz(x):\n",
    "    if(x==1):\n",
    "        print(int(x))\n",
    "    else:\n",
    "        print(int(x))\n",
    "        if(x%2==0):\n",
    "            collatz(x/2)\n",
    "        else:\n",
    "            collatz(3*x+1)\n",
    "            \n",
    "collatz(1)\n",
    "\n",
    "collatz(10)"
   ]
  },
  {
   "cell_type": "markdown",
   "id": "88258fb8",
   "metadata": {},
   "source": [
    "### Question 5"
   ]
  },
  {
   "cell_type": "code",
   "execution_count": 5,
   "id": "7607e5ee",
   "metadata": {},
   "outputs": [
    {
     "name": "stdout",
     "output_type": "stream",
     "text": [
      "1001"
     ]
    }
   ],
   "source": [
    "global ans\n",
    "def binary(n):\n",
    "    ans=\"\"\n",
    "    if(n<2):\n",
    "        ans = str(n)+ans\n",
    "    else:\n",
    "        ans = str(n%2)+ans\n",
    "        binary(n//2)\n",
    "    print(ans,end='')\n",
    "    \n",
    "binary(9)"
   ]
  },
  {
   "cell_type": "markdown",
   "id": "c74d528b",
   "metadata": {},
   "source": [
    "### Question 6"
   ]
  },
  {
   "cell_type": "code",
   "execution_count": 15,
   "id": "442788aa",
   "metadata": {},
   "outputs": [
    {
     "name": "stdout",
     "output_type": "stream",
     "text": [
      "W3C Mission\n",
      "\tPrinciples\n"
     ]
    }
   ],
   "source": [
    "import re\n",
    "from html.parser import HTMLParser\n",
    "\n",
    "class HeadingParser(HTMLParser):\n",
    "    \n",
    "\n",
    "    def __init__(self):\n",
    "        HTMLParser.__init__(self)\n",
    "        self.print_data = False\n",
    "        self.tag_list = []\n",
    "        self.tag_data = []\n",
    "    \n",
    "    def feed(self,file_name):\n",
    "        file = open(file_name)\n",
    "        contents = file.read()\n",
    "        file.close()\n",
    "        HTMLParser.feed(self,contents)\n",
    "        self.get_heading_tags()\n",
    "    \n",
    "    def handle_starttag(self,tag,attr):\n",
    "        if(len(tag)<3 and tag[0]=='h'):\n",
    "            self.print_data = True\n",
    "            self.tag_list.append(tag)\n",
    "\n",
    "    def handle_data(self,data):\n",
    "        if(self.print_data == True):\n",
    "            self.print_data = False\n",
    "            if(re.findall(\"\\S\",data)):\n",
    "                self.tag_data.append(data)    \n",
    "        \n",
    "    def get_heading_tags(self):\n",
    "        for i in range(len(self.tag_list)):\n",
    "            indent_need = self.tag_list[i][-1]\n",
    "            indent_need = int(indent_need)-1\n",
    "            print('\\t'*indent_need + self.tag_data[i])\n",
    "\n",
    "            \n",
    "            \n",
    "a = HeadingParser()\n",
    "a.feed('w3c.txt')\n"
   ]
  },
  {
   "cell_type": "markdown",
   "id": "db276485",
   "metadata": {},
   "source": [
    "### Question 7"
   ]
  },
  {
   "cell_type": "code",
   "execution_count": 7,
   "id": "e3b38aa5",
   "metadata": {},
   "outputs": [],
   "source": [
    "from urllib.parse import urljoin\n",
    "from urllib.request import urlopen\n",
    "from html.parser import HTMLParser\n",
    "\n",
    "class URLCollector(HTMLParser):\n",
    "    def __init__(self, url):\n",
    "        'initializes parser, the url, and a list'\n",
    "        HTMLParser.__init__(self)\n",
    "        self.url = url\n",
    "        self.links = []\n",
    "\n",
    "    \n",
    "    def handle_starttag(self, tag, attrs):\n",
    "        'collects hyperlink URLs in their absolute format'\n",
    "        if tag == 'a':\n",
    "            for attr in attrs:\n",
    "                if attr[0] == 'href':\n",
    "                    # construct absolute URL\n",
    "                    absolute = urljoin(self.url, attr[1])\n",
    "                    if absolute[:4] == 'http' and absolute!=self.url: # collect HTTP URLs\n",
    "                            if(absolute not in self.links):\n",
    "                                self.links.append(absolute)\n",
    "                        \n",
    "    def getLinks(self):\n",
    "        'returns hyperlinks URLs in their absolute format'\n",
    "        return self.links\n",
    "\n"
   ]
  },
  {
   "cell_type": "code",
   "execution_count": 8,
   "id": "20243617",
   "metadata": {},
   "outputs": [],
   "source": [
    "def getUrl(url,depth,indent):\n",
    "    content = urlopen(url).read().decode()\n",
    "    urlFetch = URLCollector(url)\n",
    "    urlFetch.feed(content)    \n",
    "    urls = urlFetch.getLinks()\n",
    "    return urls\n"
   ]
  },
  {
   "cell_type": "code",
   "execution_count": 11,
   "id": "00ed9ffb",
   "metadata": {},
   "outputs": [
    {
     "name": "stdout",
     "output_type": "stream",
     "text": [
      "http://reed.cs.depaul.edu/lperkovic/one.html\n",
      "\thttp://reed.cs.depaul.edu/lperkovic/two.html\n",
      "\t\thttp://reed.cs.depaul.edu/lperkovic/four.html\n",
      "\thttp://reed.cs.depaul.edu/lperkovic/three.html\n",
      "\t\thttp://reed.cs.depaul.edu/lperkovic/four.html\n"
     ]
    }
   ],
   "source": [
    "urlVisited = set()\n",
    "    \n",
    "def webdir(url,depth,indent):\n",
    "    global urlVisited\n",
    "    print(\"\\t\"*indent + str(url))\n",
    "    for i in range(depth):\n",
    "        urlVisited.add(url)\n",
    "        urls = getUrl(url,depth,indent)\n",
    "        for link in urls:\n",
    "            if link not in urlVisited:\n",
    "                try:\n",
    "                    webdir(link,depth-1,indent+1)\n",
    "                except:\n",
    "                    pass\n",
    "                #print(\"\\t\"*indent + str(link))\n",
    "\n",
    "webdir('http://reed.cs.depaul.edu/lperkovic/one.html',2,0)"
   ]
  },
  {
   "cell_type": "markdown",
   "id": "9fed3a72",
   "metadata": {},
   "source": [
    "### Question 8"
   ]
  },
  {
   "cell_type": "markdown",
   "id": "0edebbec",
   "metadata": {},
   "source": [
    "Question 8a = All the temperature data\n",
    ">> SELECT Temperature \n",
    " FROM PB2_Q8\n",
    "\n",
    "Question 8b = All the cities, but without repetition\n",
    ">> SELECT DISTINCT(City) \n",
    "FROM PB2_Q8\n",
    "\n",
    "Question 8c = All the records for India\n",
    ">> SELECT * \n",
    "FROM PB2_Q8 \n",
    "WHERE Country='India'\n",
    "\n",
    "Question 8d = All the Fall records\n",
    ">> SELECT * \n",
    "FROM PB2_Q8 \n",
    "WHERE Season='Fall'\n",
    "\n",
    "Question 8e = The city and country for which the average rainfall is between 200 and 400 millimeters\n",
    ">> SELECT City, Country \n",
    "FROM PB2_Q8 \n",
    "WHERE AVG(Rainfall) BETWEEN 200 AND 400 \n",
    "GROUP BY City, Country\n",
    "\n",
    "Question 8f = The city and country for which the average Fall temperature is above 20 degrees, in increasing temperature order.\n",
    ">> SELECT City, Country \n",
    "FROM PB2_Q8 \n",
    "WHERE Rainfall > 20.0 \n",
    "AND Season='Fall' \n",
    "ORDER BY Temperature\n",
    "\n",
    "Question 8g = The total annual rainfall for Cairo.\n",
    ">> SELECT sum(Rainfall) \n",
    "FROM PB2_Q8 \n",
    "WHERE City = 'Cairo'\n",
    "\n",
    "Question 8h = The total rainfall for each season.\n",
    ">> SELECT sum(Rainfall) \n",
    "FROM PB2_Q8 \n",
    "GROUP BY season "
   ]
  },
  {
   "cell_type": "markdown",
   "id": "6cb9b7b4",
   "metadata": {},
   "source": [
    "### Question 9"
   ]
  },
  {
   "cell_type": "code",
   "execution_count": 12,
   "id": "a938597a",
   "metadata": {},
   "outputs": [
    {
     "name": "stdout",
     "output_type": "stream",
     "text": [
      "9A:\t ['THE', 'QUICK', 'BROWN', 'FOX', 'JUMPS', 'OVER', 'THE', 'LAZY', 'DOG']\n",
      "9B:\t ['the', 'quick', 'brown', 'fox', 'jumps', 'over', 'the', 'lazy', 'dog']\n",
      "9C:\t [3, 5, 5, 3, 5, 4, 3, 4, 3]\n",
      "9D:\t [['THE', 'the', 3], ['QUICK', 'quick', 5], ['BROWN', 'brown', 5], ['FOX', 'fox', 3], ['JUMPS', 'jumps', 5], ['OVER', 'over', 4], ['THE', 'the', 3], ['LAZY', 'lazy', 4], ['DOG', 'dog', 3]]\n",
      "9E:\t ['quick', 'brown', 'jumps', 'over', 'lazy']\n"
     ]
    }
   ],
   "source": [
    "words = ['The', 'quick', 'brown', 'fox', 'jumps', 'over', 'the', 'lazy', 'dog']\n",
    "\n",
    "#Question 9a  = All words in UPPER\n",
    "print(\"9A:\\t\",[x.upper() for x in words])\n",
    "\n",
    "#Question 9b = All words in LOWER\n",
    "print(\"9B:\\t\",[x.lower() for x in words])\n",
    "\n",
    "#Question 9c = Length of all words\n",
    "print(\"9C:\\t\",[len(x) for x in words])\n",
    "\n",
    "#Question 9d = a list containing the UPPER, lower, length of the word\n",
    "print(\"9D:\\t\",[[x.upper(),x.lower(),len(x)] for x in words])\n",
    "\n",
    "#Question 9e = words which contain 4 or more characters\n",
    "print(\"9E:\\t\",[x for x in words if len(x)>3])"
   ]
  }
 ],
 "metadata": {
  "kernelspec": {
   "display_name": "Python 3 (ipykernel)",
   "language": "python",
   "name": "python3"
  },
  "language_info": {
   "codemirror_mode": {
    "name": "ipython",
    "version": 3
   },
   "file_extension": ".py",
   "mimetype": "text/x-python",
   "name": "python",
   "nbconvert_exporter": "python",
   "pygments_lexer": "ipython3",
   "version": "3.9.13"
  }
 },
 "nbformat": 4,
 "nbformat_minor": 5
}
