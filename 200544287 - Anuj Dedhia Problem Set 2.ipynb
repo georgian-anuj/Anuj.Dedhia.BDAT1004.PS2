{
 "cells": [
  {
   "cell_type": "markdown",
   "id": "3d7c5d5a",
   "metadata": {},
   "source": [
    "### Question 1"
   ]
  },
  {
   "cell_type": "code",
   "execution_count": 3,
   "id": "9562575f",
   "metadata": {},
   "outputs": [
    {
     "data": {
      "text/plain": [
       "6"
      ]
     },
     "execution_count": 3,
     "metadata": {},
     "output_type": "execute_result"
    }
   ],
   "source": [
    "a = 0  \n",
    "\n",
    "def b():     \n",
    "    global a     \n",
    "    a = c(a)  \n",
    "\n",
    "def c(a):     \n",
    "    return a + 2 \n",
    "\n",
    "b()\n",
    "b()\n",
    "b()\n",
    "a"
   ]
  },
  {
   "cell_type": "markdown",
   "id": "fc675ea5",
   "metadata": {},
   "source": [
    "1. In the execution, the first call is made to the function \"b\". \n",
    "2. In Function \"b\", first step states that the variable \"a\" as global. Then the next statement passes the variable \"a\" to the function \"c\" and the value of that function call is assigned to variable \"a\".\n",
    "3. The Function \"c\" simply adds 2 to the value of \"a\" which it received as an argument. Here \"a\" is local variable to the \"c\". It simply return whatever value it received + 2\n",
    "4. When the 2nd function call is made to \"b\", the value of a is 2 already as in the first execution, we had defined the value of a as global\n",
    "5. So here, since \"a\" is global, its value gets added up by 2 everytime the function \"b\" is called as we are calling \"c\" and returning a+2.\n",
    "6. We here have called the Function \"b\" three times and hence value of variable \"a\" will be 2+2+2 = 6"
   ]
  },
  {
   "cell_type": "markdown",
   "id": "bc08134d",
   "metadata": {},
   "source": [
    "### Question 2"
   ]
  },
  {
   "cell_type": "code",
   "execution_count": 4,
   "id": "e8a5720c",
   "metadata": {},
   "outputs": [
    {
     "name": "stdout",
     "output_type": "stream",
     "text": [
      "File idterm.py not found.\n"
     ]
    }
   ],
   "source": [
    "def file_length(file_name):\n",
    "    try:\n",
    "        file = open(file_name)\n",
    "        contents = file.read()\n",
    "        file.close()\n",
    "        print(len(contents))\n",
    "    except:\n",
    "        print(\"File \"+file_name+\" not found.\")\n",
    "\n",
    "file_length('idterm.py')"
   ]
  },
  {
   "cell_type": "markdown",
   "id": "810e2072",
   "metadata": {},
   "source": [
    "### Question 3"
   ]
  },
  {
   "cell_type": "code",
   "execution_count": 3,
   "id": "2f71f6a8",
   "metadata": {},
   "outputs": [
    {
     "name": "stdout",
     "output_type": "stream",
     "text": [
      "['doll', 'firetruck', 'kitten']\n",
      "I am a Kangaroo located at coordinates (0 , 0)\n",
      "['doll', 'firetruck', 'kitten']\n",
      "I am a Kangaroo located at coordinates (3 , 0)\n"
     ]
    }
   ],
   "source": [
    "class Marsupial:\n",
    "    \n",
    "    def __init__(self):\n",
    "        self.pouch = []\n",
    "    \n",
    "    def put_in_pouch(self,obj):\n",
    "        self.pouch.append(obj)\n",
    "    \n",
    "    def pouch_contents(self):\n",
    "        print(self.pouch)\n",
    "        \n",
    "class Kangaroo(Marsupial):\n",
    "\n",
    "    def __init__(self,x=0,y=0):\n",
    "        Marsupial.__init__(self)\n",
    "        self.x = x\n",
    "        self.y = y\n",
    "    \n",
    "    def jump(self,dx,dy):\n",
    "        self.x += dx\n",
    "        self.y += dy\n",
    "\n",
    "    def __str__(self):\n",
    "        return \"I am a Kangaroo located at coordinates (%s , %s)\"%(self.x,self.y)\n",
    "\n",
    "    \n",
    "m = Marsupial() \n",
    "m.put_in_pouch('doll') \n",
    "m.put_in_pouch('firetruck')\n",
    "m.put_in_pouch('kitten')\n",
    "m.pouch_contents() \n",
    "\n",
    "\n",
    "k = Kangaroo(0,0)\n",
    "print(k)\n",
    "\n",
    "k.put_in_pouch('doll') \n",
    "k.put_in_pouch('firetruck')\n",
    "k.put_in_pouch('kitten')\n",
    "k.pouch_contents() \n",
    "\n",
    "k.jump(1,0)\n",
    "k.jump(1,0)\n",
    "k.jump(1,0)\n",
    "print(k)"
   ]
  },
  {
   "cell_type": "markdown",
   "id": "256a7a34",
   "metadata": {},
   "source": [
    "### Question 4"
   ]
  },
  {
   "cell_type": "code",
   "execution_count": 5,
   "id": "d19f0a55",
   "metadata": {},
   "outputs": [
    {
     "name": "stdout",
     "output_type": "stream",
     "text": [
      "1\n",
      "10\n",
      "5\n",
      "16\n",
      "8\n",
      "4\n",
      "2\n",
      "1\n"
     ]
    }
   ],
   "source": [
    "def collatz(x):\n",
    "    if(x==1):\n",
    "        print(int(x))\n",
    "    else:\n",
    "        print(int(x))\n",
    "        if(x%2==0):\n",
    "            collatz(x/2)\n",
    "        else:\n",
    "            collatz(3*x+1)\n",
    "            \n",
    "collatz(1)\n",
    "\n",
    "collatz(10)"
   ]
  },
  {
   "cell_type": "markdown",
   "id": "88258fb8",
   "metadata": {},
   "source": [
    "### Question 5"
   ]
  },
  {
   "cell_type": "code",
   "execution_count": 7,
   "id": "7607e5ee",
   "metadata": {},
   "outputs": [
    {
     "name": "stdout",
     "output_type": "stream",
     "text": [
      "0\n",
      "1\n",
      "10\n",
      "11\n",
      "1001\n"
     ]
    }
   ],
   "source": [
    "global ans\n",
    "def binary(n):\n",
    "    ans=\"\"\n",
    "    if(n<2):\n",
    "        ans = str(n)+ans\n",
    "    else:\n",
    "        ans = str(n%2)+ans\n",
    "        binary(n//2)\n",
    "    print(ans,end='')\n",
    "    \n",
    "binary(0)\n",
    "print()\n",
    "binary(1)\n",
    "print()\n",
    "binary(2)\n",
    "print()\n",
    "binary(3)\n",
    "print()\n",
    "binary(9)\n",
    "print()"
   ]
  },
  {
   "cell_type": "markdown",
   "id": "c74d528b",
   "metadata": {},
   "source": [
    "### Question 6"
   ]
  },
  {
   "cell_type": "code",
   "execution_count": 8,
   "id": "442788aa",
   "metadata": {},
   "outputs": [
    {
     "name": "stdout",
     "output_type": "stream",
     "text": [
      "W3C Mission\n",
      "\tPrinciples\n"
     ]
    }
   ],
   "source": [
    "import re\n",
    "from html.parser import HTMLParser\n",
    "\n",
    "class HeadingParser(HTMLParser):\n",
    "    \n",
    "\n",
    "    def __init__(self):\n",
    "        HTMLParser.__init__(self)\n",
    "        self.print_data = False\n",
    "        self.tag_list = []\n",
    "        self.tag_data = []\n",
    "    \n",
    "    def feed(self,file_name):\n",
    "        file = open(file_name)\n",
    "        contents = file.read()\n",
    "        file.close()\n",
    "        HTMLParser.feed(self,contents)\n",
    "        self.get_heading_tags()\n",
    "    \n",
    "    def handle_starttag(self,tag,attr):\n",
    "        if(len(tag)<3 and tag[0]=='h'):\n",
    "            self.print_data = True\n",
    "            self.tag_list.append(tag)\n",
    "\n",
    "    def handle_data(self,data):\n",
    "        if(self.print_data == True):\n",
    "            self.print_data = False\n",
    "            if(re.findall(\"\\S\",data)):\n",
    "                self.tag_data.append(data)    \n",
    "        \n",
    "    def get_heading_tags(self):\n",
    "        for i in range(len(self.tag_list)):\n",
    "            indent_need = self.tag_list[i][-1]\n",
    "            indent_need = int(indent_need)-1\n",
    "            print('\\t'*indent_need + self.tag_data[i])\n",
    "\n",
    "            \n",
    "            \n",
    "a = HeadingParser()\n",
    "a.feed('w3c.html')\n"
   ]
  },
  {
   "cell_type": "markdown",
   "id": "db276485",
   "metadata": {},
   "source": [
    "### Question 7"
   ]
  },
  {
   "cell_type": "code",
   "execution_count": 9,
   "id": "e3b38aa5",
   "metadata": {},
   "outputs": [],
   "source": [
    "from urllib.parse import urljoin\n",
    "from urllib.request import urlopen\n",
    "from html.parser import HTMLParser\n",
    "\n",
    "class URLCollector(HTMLParser):\n",
    "    def __init__(self, url):\n",
    "        'initializes parser, the url, and a list'\n",
    "        HTMLParser.__init__(self)\n",
    "        self.url = url\n",
    "        self.links = []\n",
    "\n",
    "    \n",
    "    def handle_starttag(self, tag, attrs):\n",
    "        'collects hyperlink URLs in their absolute format'\n",
    "        if tag == 'a':\n",
    "            for attr in attrs:\n",
    "                if attr[0] == 'href':\n",
    "                    # construct absolute URL\n",
    "                    absolute = urljoin(self.url, attr[1])\n",
    "                    if absolute[:4] == 'http' and absolute!=self.url: # collect HTTP URLs\n",
    "                            if(absolute not in self.links):\n",
    "                                self.links.append(absolute)\n",
    "                        \n",
    "    def getLinks(self):\n",
    "        'returns hyperlinks URLs in their absolute format'\n",
    "        return self.links\n",
    "\n"
   ]
  },
  {
   "cell_type": "code",
   "execution_count": 10,
   "id": "20243617",
   "metadata": {},
   "outputs": [],
   "source": [
    "def getUrl(url,depth,indent):\n",
    "    content = urlopen(url).read().decode()\n",
    "    urlFetch = URLCollector(url)\n",
    "    urlFetch.feed(content)    \n",
    "    urls = urlFetch.getLinks()\n",
    "    return urls\n"
   ]
  },
  {
   "cell_type": "code",
   "execution_count": 11,
   "id": "00ed9ffb",
   "metadata": {},
   "outputs": [
    {
     "name": "stdout",
     "output_type": "stream",
     "text": [
      "http://reed.cs.depaul.edu/lperkovic/one.html\n",
      "\thttp://reed.cs.depaul.edu/lperkovic/two.html\n",
      "\t\thttp://reed.cs.depaul.edu/lperkovic/four.html\n",
      "\thttp://reed.cs.depaul.edu/lperkovic/three.html\n",
      "\t\thttp://reed.cs.depaul.edu/lperkovic/four.html\n"
     ]
    }
   ],
   "source": [
    "urlVisited = set()\n",
    "    \n",
    "def webdir(url,depth,indent):\n",
    "    global urlVisited\n",
    "    print(\"\\t\"*indent + str(url))\n",
    "    for i in range(depth):\n",
    "        urlVisited.add(url)\n",
    "        urls = getUrl(url,depth,indent)\n",
    "        for link in urls:\n",
    "            if link not in urlVisited:\n",
    "                try:\n",
    "                    webdir(link,depth-1,indent+1)\n",
    "                except:\n",
    "                    pass\n",
    "                #print(\"\\t\"*indent + str(link))\n",
    "\n",
    "webdir('http://reed.cs.depaul.edu/lperkovic/one.html',2,0)"
   ]
  },
  {
   "cell_type": "markdown",
   "id": "9fed3a72",
   "metadata": {},
   "source": [
    "### Question 8"
   ]
  },
  {
   "cell_type": "markdown",
   "id": "0edebbec",
   "metadata": {},
   "source": [
    "Question 8a = All the temperature data\n",
    ">> SELECT Temperature FROM Climate\n",
    "\n",
    "Question 8b = All the cities, but without repetition\n",
    ">> SELECT DISTINCT(City) FROM Climate\n",
    "\n",
    "Question 8c = All the records for India\n",
    ">> SELECT * FROM Climate WHERE Country='India'\n",
    "\n",
    "Question 8d = All the Fall records\n",
    ">> SELECT * FROM Climate WHERE Season='Fall'\n",
    "\n",
    "Question 8e = The city and country for which the average rainfall is between 200 and 400 millimeters\n",
    ">> SELECT Climate2.City, Climate2.Country FROM (SELECT City, Country, AVG(Rainfall) AS Rainfall FROM Climate WHERE Rainfall BETWEEN 200 AND 400 GROUP BY City, Country) as Climate2\n",
    "\n",
    "Question 8f = The city and country for which the average Fall temperature is above 20 degrees, in increasing temperature order.\n",
    ">> SELECT city, country FROM Climate WHERE Season='Fall' AND temperature>20 ORDER BY Temperature\n",
    "\n",
    "Question 8g = The total annual rainfall for Cairo.\n",
    ">> SELECT sum(Rainfall) FROM Climate WHERE City = 'Cairo'\n",
    "\n",
    "Question 8h = The total rainfall for each season.\n",
    ">>  SELECT season, round(sum(Rainfall),2) FROM Climate GROUP BY Season"
   ]
  },
  {
   "cell_type": "code",
   "execution_count": 26,
   "id": "3453df88",
   "metadata": {},
   "outputs": [],
   "source": [
    "import sqlite3\n",
    "conn = sqlite3.connect(\"WorldClimate.db\")\n",
    "cur = conn.cursor()"
   ]
  },
  {
   "cell_type": "code",
   "execution_count": 27,
   "id": "bd499fe2",
   "metadata": {},
   "outputs": [
    {
     "data": {
      "text/plain": [
       "<sqlite3.Cursor at 0x18edbc25650>"
      ]
     },
     "execution_count": 27,
     "metadata": {},
     "output_type": "execute_result"
    }
   ],
   "source": [
    "cur.execute(\"CREATE TABLE Climate (City text, Country text, Season text, Temperature float, Rainfall float)\")"
   ]
  },
  {
   "cell_type": "code",
   "execution_count": 15,
   "id": "bcd99c68",
   "metadata": {},
   "outputs": [
    {
     "data": {
      "text/plain": [
       "[('Mumbai', 'India', 'Winter', 24.8, 5.9),\n",
       " ('Mumbai', 'India', 'Spring', 28.4, 16.2),\n",
       " ('Mumbai', 'India', 'Summer', 27.9, 1549.4),\n",
       " ('Mumbai', 'India', 'Fall', 27.6, 346.0),\n",
       " ('London', 'United Kingdom', 'Winter', 4.2, 207.7),\n",
       " ('London', 'United Kingdom', 'Spring', 8.3, 169.6),\n",
       " ('London', 'United Kingdom', 'Summer', 15.7, 157.0),\n",
       " ('London', 'United Kingdom', 'Fall', 10.4, 218.5),\n",
       " ('Cairo', 'Egypt', 'Winter', 13.6, 16.5),\n",
       " ('Cairo', 'Egypt', 'Spring', 20.7, 6.5),\n",
       " ('Cairo', 'Egypt', 'Summer', 27.7, 0.1),\n",
       " ('Cairo', 'Egypt', 'Fall', 22.2, 4.5)]"
      ]
     },
     "execution_count": 15,
     "metadata": {},
     "output_type": "execute_result"
    }
   ],
   "source": [
    "cur.execute(\"SELECT * FROM Climate\")\n",
    "cur.fetchall()"
   ]
  },
  {
   "cell_type": "code",
   "execution_count": 17,
   "id": "e8c14fd9",
   "metadata": {},
   "outputs": [
    {
     "name": "stdout",
     "output_type": "stream",
     "text": [
      "Temperatures: 24.8, 28.4, 27.9, 27.6, 4.2, 8.3, 15.7, 10.4, 13.6, 20.7, 27.7, 22.2\n"
     ]
    }
   ],
   "source": [
    "##### Question 8a = All the temperature data\n",
    "cur.execute(\"SELECT Temperature FROM Climate\");\n",
    "a = \"\"\n",
    "for record in cur:\n",
    "    for vals in record:\n",
    "        a += str(vals)+ \", \"\n",
    "print(\"Temperatures: \" + a[:-2])"
   ]
  },
  {
   "cell_type": "code",
   "execution_count": 18,
   "id": "b67df957",
   "metadata": {},
   "outputs": [
    {
     "name": "stdout",
     "output_type": "stream",
     "text": [
      "Distinct Cities: \n",
      "Mumbai\n",
      "London\n",
      "Cairo\n"
     ]
    }
   ],
   "source": [
    "##### Question 8b = All the cities, but without repetition\n",
    "cur.execute(\"SELECT DISTINCT(City) FROM Climate\")\n",
    "print(\"Distinct Cities: \")\n",
    "for record in cur:\n",
    "    for vals in record:\n",
    "        print(vals)"
   ]
  },
  {
   "cell_type": "code",
   "execution_count": 19,
   "id": "84c80eb3",
   "metadata": {},
   "outputs": [
    {
     "name": "stdout",
     "output_type": "stream",
     "text": [
      "All the records for India: \n",
      "Mumbai\tIndia\tWinter\t24.8\t5.9\t\n",
      "Mumbai\tIndia\tSpring\t28.4\t16.2\t\n",
      "Mumbai\tIndia\tSummer\t27.9\t1549.4\t\n",
      "Mumbai\tIndia\tFall\t27.6\t346.0\t\n"
     ]
    }
   ],
   "source": [
    "##### Question 8c = All the records for India\n",
    "cur.execute(\"SELECT * FROM Climate WHERE Country='India'\")\n",
    "print(\"All the records for India: \")\n",
    "for record in cur:\n",
    "    for vals in record:\n",
    "        print(vals, end=\"\\t\")\n",
    "    print()"
   ]
  },
  {
   "cell_type": "code",
   "execution_count": 20,
   "id": "17da1892",
   "metadata": {},
   "outputs": [
    {
     "data": {
      "text/plain": [
       "[('Mumbai', 'India', 'Fall', 27.6, 346.0),\n",
       " ('London', 'United Kingdom', 'Fall', 10.4, 218.5),\n",
       " ('Cairo', 'Egypt', 'Fall', 22.2, 4.5)]"
      ]
     },
     "execution_count": 20,
     "metadata": {},
     "output_type": "execute_result"
    }
   ],
   "source": [
    "##### Question 8d = All the Fall records\n",
    "cur.execute(\"SELECT * FROM Climate WHERE Season='Fall'\")\n",
    "cur.fetchall()"
   ]
  },
  {
   "cell_type": "code",
   "execution_count": 21,
   "id": "aaa72e4d",
   "metadata": {},
   "outputs": [
    {
     "name": "stdout",
     "output_type": "stream",
     "text": [
      "City & Country which has Average Rainfall between 200 & 400 are:\n",
      "London\tUnited Kingdom\t\n",
      "Mumbai\tIndia\t\n"
     ]
    }
   ],
   "source": [
    "##### Question 8e = The city and country for which the average rainfall is between 200 and 400 millimeters\n",
    "cur.execute(\"SELECT Climate2.City, Climate2.Country FROM (SELECT City, Country, AVG(Rainfall) AS Rainfall FROM Climate WHERE Rainfall BETWEEN 200 AND 400 GROUP BY City, Country) as Climate2\")\n",
    "print(\"City & Country which has Average Rainfall between 200 & 400 are:\")\n",
    "for record in cur:\n",
    "    for vals in record:\n",
    "        print(vals, end=\"\\t\")\n",
    "    print()"
   ]
  },
  {
   "cell_type": "code",
   "execution_count": 22,
   "id": "0f459f18",
   "metadata": {},
   "outputs": [
    {
     "name": "stdout",
     "output_type": "stream",
     "text": [
      "City & Country which has Average Fall Temperature above 20 Degrees:\n",
      "Cairo\tEgypt\t\n",
      "Mumbai\tIndia\t\n"
     ]
    }
   ],
   "source": [
    "##### Question 8f = The city and country for which the average Fall temperature is above 20 degrees, in increasing temperature order.\n",
    "cur.execute(\"SELECT city, country FROM Climate WHERE Season='Fall' AND temperature>20 ORDER BY Temperature\")\n",
    "print(\"City & Country which has Average Fall Temperature above 20 Degrees:\")\n",
    "for record in cur:\n",
    "    for vals in record:\n",
    "        print(vals, end=\"\\t\")\n",
    "    print()"
   ]
  },
  {
   "cell_type": "code",
   "execution_count": 23,
   "id": "a5d91967",
   "metadata": {},
   "outputs": [
    {
     "name": "stdout",
     "output_type": "stream",
     "text": [
      "Total Rainfall for Cairo: 27.6\n"
     ]
    }
   ],
   "source": [
    "##### Question 8g = The total annual rainfall for Cairo.\n",
    "cur.execute(\"SELECT sum(Rainfall) FROM Climate WHERE City = 'Cairo'\")\n",
    "print(\"Total Rainfall for Cairo: \",end = \"\")\n",
    "for i in cur:\n",
    "    for val in i:\n",
    "        print(val)"
   ]
  },
  {
   "cell_type": "code",
   "execution_count": 24,
   "id": "d062ac36",
   "metadata": {},
   "outputs": [
    {
     "name": "stdout",
     "output_type": "stream",
     "text": [
      "Total Rainfall for each season:\n",
      "Fall\t569.0\t\n",
      "Spring\t192.3\t\n",
      "Summer\t1706.5\t\n",
      "Winter\t230.1\t\n"
     ]
    }
   ],
   "source": [
    "##### Question 8h = The total rainfall for each season.\n",
    "cur.execute(\"SELECT season, round(sum(Rainfall),2) FROM Climate GROUP BY Season\")\n",
    "print(\"Total Rainfall for each season:\")\n",
    "for records in cur:\n",
    "    for val in records:\n",
    "        print(val, end=\"\\t\")\n",
    "    print()"
   ]
  },
  {
   "cell_type": "markdown",
   "id": "6cb9b7b4",
   "metadata": {},
   "source": [
    "### Question 9"
   ]
  },
  {
   "cell_type": "code",
   "execution_count": 25,
   "id": "a938597a",
   "metadata": {},
   "outputs": [
    {
     "name": "stdout",
     "output_type": "stream",
     "text": [
      "9A:\t ['THE', 'QUICK', 'BROWN', 'FOX', 'JUMPS', 'OVER', 'THE', 'LAZY', 'DOG']\n",
      "9B:\t ['the', 'quick', 'brown', 'fox', 'jumps', 'over', 'the', 'lazy', 'dog']\n",
      "9C:\t [3, 5, 5, 3, 5, 4, 3, 4, 3]\n",
      "9D:\t [['THE', 'the', 3], ['QUICK', 'quick', 5], ['BROWN', 'brown', 5], ['FOX', 'fox', 3], ['JUMPS', 'jumps', 5], ['OVER', 'over', 4], ['THE', 'the', 3], ['LAZY', 'lazy', 4], ['DOG', 'dog', 3]]\n",
      "9E:\t ['quick', 'brown', 'jumps', 'over', 'lazy']\n"
     ]
    }
   ],
   "source": [
    "words = ['The', 'quick', 'brown', 'fox', 'jumps', 'over', 'the', 'lazy', 'dog']\n",
    "\n",
    "#Question 9a  = All words in UPPER\n",
    "print(\"9A:\\t\",[x.upper() for x in words])\n",
    "\n",
    "#Question 9b = All words in LOWER\n",
    "print(\"9B:\\t\",[x.lower() for x in words])\n",
    "\n",
    "#Question 9c = Length of all words\n",
    "print(\"9C:\\t\",[len(x) for x in words])\n",
    "\n",
    "#Question 9d = a list containing the UPPER, lower, length of the word\n",
    "print(\"9D:\\t\",[[x.upper(),x.lower(),len(x)] for x in words])\n",
    "\n",
    "#Question 9e = words which contain 4 or more characters\n",
    "print(\"9E:\\t\",[x for x in words if len(x)>3])"
   ]
  }
 ],
 "metadata": {
  "kernelspec": {
   "display_name": "Python 3 (ipykernel)",
   "language": "python",
   "name": "python3"
  },
  "language_info": {
   "codemirror_mode": {
    "name": "ipython",
    "version": 3
   },
   "file_extension": ".py",
   "mimetype": "text/x-python",
   "name": "python",
   "nbconvert_exporter": "python",
   "pygments_lexer": "ipython3",
   "version": "3.9.13"
  }
 },
 "nbformat": 4,
 "nbformat_minor": 5
}
